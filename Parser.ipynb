{
 "cells": [
  {
   "cell_type": "code",
   "execution_count": 4,
   "metadata": {},
   "outputs": [
    {
     "name": "stdout",
     "output_type": "stream",
     "text": [
      " Volume in drive C is Windows\n",
      " Volume Serial Number is AAC7-5F3A\n",
      "\n",
      " Directory of C:\\Users\\alyulina\\Projects\\Sandpiper\\SkewNormal\n",
      "\n",
      "16-Apr-19  12:19 PM    <DIR>          .\n",
      "16-Apr-19  12:19 PM    <DIR>          ..\n",
      "09-Mar-19  11:21 AM    <DIR>          .ipynb_checkpoints\n",
      "21-Feb-19  06:21 PM             1,179 Everything - cluster.m\n",
      "21-Feb-19  06:33 PM            11,786 Everything - cluster.nb\n",
      "21-Feb-19  06:15 PM         2,745,171 Everything - Copy.nb\n",
      "12-Feb-19  10:38 AM               838 Everything.m\n",
      "13-Mar-19  04:04 PM         3,521,116 Everything.nb\n",
      "01-Apr-19  02:20 PM             7,538 Out.ipynb\n",
      "16-Apr-19  12:19 PM            20,534 Parser.ipynb\n",
      "11-Feb-19  08:43 AM        53,669,130 Polymorphisms - cluster.nb\n",
      "11-Feb-19  06:47 AM        67,582,676 Polymorphisms - Copy.nb\n",
      "05-Feb-19  12:17 PM        53,381,138 Polymorphisms.nb\n",
      "04-Feb-19  09:26 AM           434,646 subs.png\n",
      "28-Jan-19  10:40 AM               943 Substitutions - cluster.m\n",
      "31-Jan-19  07:46 PM        45,789,591 Substitutions - cluster.nb\n",
      "11-Feb-19  01:14 PM         3,388,664 Substitutions - Copy.nb\n",
      "04-Feb-19  09:08 AM         3,003,107 Substitutions.nb\n",
      "28-Jan-19  09:10 AM           725,764 subs_n1_n2.png\n",
      "30-Jan-19  02:14 PM        23,657,235 subs_SkewNormal_50,000-processed.csv\n",
      "30-Jan-19  02:14 PM        23,636,833 subs_SkewNormal_50,000-processed.txt\n",
      "29-Jan-19  02:45 AM        23,677,535 subs_SkewNormal_50,000.csv\n",
      "30-Jan-19  02:14 PM        24,527,479 subs_SkewNormal_500,000-processed.csv\n",
      "30-Jan-19  02:14 PM        24,507,077 subs_SkewNormal_500,000-processed.txt\n",
      "29-Jan-19  02:26 AM        24,547,779 subs_SkewNormal_500,000.csv\n",
      "30-Jan-19  02:14 PM           128,181 test_subs_SkewNormal_50,000-processed.csv\n",
      "30-Jan-19  02:14 PM           127,169 test_subs_SkewNormal_50,000-processed.txt\n",
      "29-Jan-19  12:09 PM           129,191 test_subs_SkewNormal_50,000.csv\n",
      "30-Jan-19  02:14 PM           144,782 test_subs_SkewNormal_500,000-processed.csv\n",
      "30-Jan-19  02:14 PM           143,678 test_subs_SkewNormal_500,000-processed.txt\n",
      "29-Jan-19  12:10 PM           145,884 test_subs_SkewNormal_500,000.csv\n",
      "11-Apr-19  12:22 PM    <DIR>          Truncated\n",
      "              28 File(s)    379,656,644 bytes\n",
      "               4 Dir(s)  64,922,820,608 bytes free\n"
     ]
    }
   ],
   "source": [
    "! dir"
   ]
  },
  {
   "cell_type": "code",
   "execution_count": 2,
   "metadata": {},
   "outputs": [
    {
     "name": "stdout",
     "output_type": "stream",
     "text": [
      " Volume in drive C is Windows\n",
      " Volume Serial Number is AAC7-5F3A\n",
      "\n",
      " Directory of C:\\Users\\alyulina\\Projects\\Sandpiper\\SkewNormal\\Truncated\\h\n",
      "\n",
      "04-May-19  11:11 AM    <DIR>          .\n",
      "04-May-19  11:11 AM    <DIR>          ..\n",
      "03-May-19  03:48 PM            76,280 pols_h.nb\n",
      "04-May-19  10:24 AM                12 pols_h_plots.nb\n",
      "11-Apr-19  01:27 PM               733 pols_n1-QuasiMonteCarlo.m\n",
      "03-May-19  04:09 PM               819 pols_n1_h=0.5.m\n",
      "03-May-19  04:09 PM               815 pols_n1_h=0.m\n",
      "03-May-19  04:10 PM               820 pols_n2_h=0.5.m\n",
      "03-May-19  04:10 PM               816 pols_n2_h=0.m\n",
      "04-May-19  12:03 AM           185,257 pols_SkewNormal_50,000-h=0.5-QuasiMonteCarlo-20.csv\n",
      "03-May-19  11:38 PM           184,132 pols_SkewNormal_500,000-h=0.5-QuasiMonteCarlo-20.csv\n",
      "               9 File(s)        449,684 bytes\n",
      "               2 Dir(s)  60,413,968,384 bytes free\n"
     ]
    }
   ],
   "source": [
    "! dir Truncated\\h"
   ]
  },
  {
   "cell_type": "code",
   "execution_count": 167,
   "metadata": {
    "collapsed": true
   },
   "outputs": [],
   "source": [
    "names = ['AdaptiveMonteCarlo', 'DoubleExponential', 'GlobalAdaptive', 'LocalAdaptive', 'MonteCarlo', 'MultiPeriodic', 'QuasiMonteCarlo', 'Trapezoidal', 'AdaptiveQuasiMonteCarlo']"
   ]
  },
  {
   "cell_type": "code",
   "execution_count": 3,
   "metadata": {
    "collapsed": true
   },
   "outputs": [],
   "source": [
    "import csv\n",
    "import re"
   ]
  },
  {
   "cell_type": "code",
   "execution_count": 170,
   "metadata": {
    "collapsed": true
   },
   "outputs": [],
   "source": [
    "n = 5"
   ]
  },
  {
   "cell_type": "code",
   "execution_count": 10,
   "metadata": {
    "collapsed": true
   },
   "outputs": [],
   "source": [
    "file = 'pols_SkewNormal_500,000-h=0.5-QuasiMonteCarlo-20'\n",
    "path = 'Truncated\\\\h\\\\'"
   ]
  },
  {
   "cell_type": "code",
   "execution_count": 11,
   "metadata": {
    "collapsed": true
   },
   "outputs": [],
   "source": [
    "with open(path + file + '.csv', 'r') as f:\n",
    "    reader = csv.reader(f)\n",
    "    test = list(reader)"
   ]
  },
  {
   "cell_type": "code",
   "execution_count": 12,
   "metadata": {
    "collapsed": true
   },
   "outputs": [],
   "source": [
    "test_processed = [[j[1:-1] for j in i] for i in test]"
   ]
  },
  {
   "cell_type": "code",
   "execution_count": 13,
   "metadata": {
    "collapsed": true
   },
   "outputs": [],
   "source": [
    "test_processed_txt = [':'.join(i) + '\\n' for i in test_processed]"
   ]
  },
  {
   "cell_type": "code",
   "execution_count": 14,
   "metadata": {
    "collapsed": true
   },
   "outputs": [],
   "source": [
    "with open(path + file + '-processed.csv', 'w', newline='') as o:            \n",
    "    writer = csv.writer(o)\n",
    "    writer.writerows(test_processed)"
   ]
  },
  {
   "cell_type": "code",
   "execution_count": 15,
   "metadata": {
    "collapsed": true
   },
   "outputs": [],
   "source": [
    "with open(path + file + '-processed.txt', 'w+') as o:            \n",
    "    o.writelines(test_processed_txt)"
   ]
  },
  {
   "cell_type": "code",
   "execution_count": null,
   "metadata": {
    "collapsed": true
   },
   "outputs": [],
   "source": []
  },
  {
   "cell_type": "code",
   "execution_count": null,
   "metadata": {
    "collapsed": true
   },
   "outputs": [],
   "source": []
  },
  {
   "cell_type": "code",
   "execution_count": 252,
   "metadata": {
    "collapsed": true
   },
   "outputs": [],
   "source": [
    "with open('Truncated\\\\New\\\\Test\\\\pols_SkewNormal_50,000-5x5x5-trap-processed.txt') as f:\n",
    "    lines_trap = [[y.split() for y in x.split(':')] for x in f.readlines()]\n",
    "\n",
    "with open('Truncated\\\\New\\\\Test\\\\pols_SkewNormal_50,000-5x5x5-processed.txt') as f:\n",
    "    lines = [[y.split() for y in x.split(':')] for x in f.readlines()]\n"
   ]
  },
  {
   "cell_type": "code",
   "execution_count": 254,
   "metadata": {
    "scrolled": true
   },
   "outputs": [
    {
     "name": "stdout",
     "output_type": "stream",
     "text": [
      "4.799415278593542e-05 4.570815881990612e-05 2.285993966029298e-06\n",
      "6.314774990953913e-05 5.861061095858069e-05 4.537138950958433e-06\n",
      "9.228550640730391e-05 8.771639611581865e-05 4.569110291485258e-06\n",
      "0.00017135041666033516 0.00016222391265912576 9.1265040012094e-06\n",
      "0.0011528922902786607 0.0010801031227197049 7.278916755895583e-05\n"
     ]
    },
    {
     "ename": "ValueError",
     "evalue": "could not convert string to float: '8.232510282068342*^-8'",
     "output_type": "error",
     "traceback": [
      "\u001b[1;31m---------------------------------------------------------------------------\u001b[0m",
      "\u001b[1;31mValueError\u001b[0m                                Traceback (most recent call last)",
      "\u001b[1;32m<ipython-input-254-da8b200c4d2e>\u001b[0m in \u001b[0;36m<module>\u001b[1;34m()\u001b[0m\n\u001b[0;32m      2\u001b[0m     \u001b[1;32mfor\u001b[0m \u001b[0mj\u001b[0m \u001b[1;32min\u001b[0m \u001b[0mrange\u001b[0m\u001b[1;33m(\u001b[0m\u001b[0mlen\u001b[0m\u001b[1;33m(\u001b[0m\u001b[0mlines\u001b[0m\u001b[1;33m[\u001b[0m\u001b[0mi\u001b[0m\u001b[1;33m]\u001b[0m\u001b[1;33m)\u001b[0m\u001b[1;33m)\u001b[0m\u001b[1;33m:\u001b[0m\u001b[1;33m\u001b[0m\u001b[0m\n\u001b[0;32m      3\u001b[0m         \u001b[1;32mfor\u001b[0m \u001b[0mk\u001b[0m \u001b[1;32min\u001b[0m \u001b[0mrange\u001b[0m\u001b[1;33m(\u001b[0m\u001b[0mlen\u001b[0m\u001b[1;33m(\u001b[0m\u001b[0mlines\u001b[0m\u001b[1;33m[\u001b[0m\u001b[0mi\u001b[0m\u001b[1;33m]\u001b[0m\u001b[1;33m[\u001b[0m\u001b[0mj\u001b[0m\u001b[1;33m]\u001b[0m\u001b[1;33m)\u001b[0m\u001b[1;33m)\u001b[0m\u001b[1;33m:\u001b[0m\u001b[1;33m\u001b[0m\u001b[0m\n\u001b[1;32m----> 4\u001b[1;33m             \u001b[0mprint\u001b[0m\u001b[1;33m(\u001b[0m\u001b[0mfloat\u001b[0m\u001b[1;33m(\u001b[0m\u001b[0mlines\u001b[0m\u001b[1;33m[\u001b[0m\u001b[0mi\u001b[0m\u001b[1;33m]\u001b[0m\u001b[1;33m[\u001b[0m\u001b[0mj\u001b[0m\u001b[1;33m]\u001b[0m\u001b[1;33m[\u001b[0m\u001b[0mk\u001b[0m\u001b[1;33m]\u001b[0m\u001b[1;33m.\u001b[0m\u001b[0mreplace\u001b[0m\u001b[1;33m(\u001b[0m\u001b[1;34m','\u001b[0m\u001b[1;33m,\u001b[0m \u001b[1;34m''\u001b[0m\u001b[1;33m)\u001b[0m\u001b[1;33m)\u001b[0m\u001b[1;33m,\u001b[0m \u001b[0mfloat\u001b[0m\u001b[1;33m(\u001b[0m\u001b[0mlines_trap\u001b[0m\u001b[1;33m[\u001b[0m\u001b[0mi\u001b[0m\u001b[1;33m]\u001b[0m\u001b[1;33m[\u001b[0m\u001b[0mj\u001b[0m\u001b[1;33m]\u001b[0m\u001b[1;33m[\u001b[0m\u001b[0mk\u001b[0m\u001b[1;33m]\u001b[0m\u001b[1;33m.\u001b[0m\u001b[0mreplace\u001b[0m\u001b[1;33m(\u001b[0m\u001b[1;34m','\u001b[0m\u001b[1;33m,\u001b[0m \u001b[1;34m''\u001b[0m\u001b[1;33m)\u001b[0m\u001b[1;33m)\u001b[0m\u001b[1;33m,\u001b[0m \u001b[0mfloat\u001b[0m\u001b[1;33m(\u001b[0m\u001b[0mlines\u001b[0m\u001b[1;33m[\u001b[0m\u001b[0mi\u001b[0m\u001b[1;33m]\u001b[0m\u001b[1;33m[\u001b[0m\u001b[0mj\u001b[0m\u001b[1;33m]\u001b[0m\u001b[1;33m[\u001b[0m\u001b[0mk\u001b[0m\u001b[1;33m]\u001b[0m\u001b[1;33m.\u001b[0m\u001b[0mreplace\u001b[0m\u001b[1;33m(\u001b[0m\u001b[1;34m','\u001b[0m\u001b[1;33m,\u001b[0m \u001b[1;34m''\u001b[0m\u001b[1;33m)\u001b[0m\u001b[1;33m)\u001b[0m\u001b[1;33m-\u001b[0m\u001b[0mfloat\u001b[0m\u001b[1;33m(\u001b[0m\u001b[0mlines_trap\u001b[0m\u001b[1;33m[\u001b[0m\u001b[0mi\u001b[0m\u001b[1;33m]\u001b[0m\u001b[1;33m[\u001b[0m\u001b[0mj\u001b[0m\u001b[1;33m]\u001b[0m\u001b[1;33m[\u001b[0m\u001b[0mk\u001b[0m\u001b[1;33m]\u001b[0m\u001b[1;33m.\u001b[0m\u001b[0mreplace\u001b[0m\u001b[1;33m(\u001b[0m\u001b[1;34m','\u001b[0m\u001b[1;33m,\u001b[0m \u001b[1;34m''\u001b[0m\u001b[1;33m)\u001b[0m\u001b[1;33m)\u001b[0m\u001b[1;33m)\u001b[0m\u001b[1;33m\u001b[0m\u001b[0m\n\u001b[0m",
      "\u001b[1;31mValueError\u001b[0m: could not convert string to float: '8.232510282068342*^-8'"
     ]
    }
   ],
   "source": [
    "for i in range(len(lines)):\n",
    "    for j in range(len(lines[i])):\n",
    "        for k in range(len(lines[i][j])):\n",
    "            print(float(lines[i][j][k].replace(',', '')), float(lines_trap[i][j][k].replace(',', '')), float(lines[i][j][k].replace(',', ''))-float(lines_trap[i][j][k].replace(',', '')))"
   ]
  },
  {
   "cell_type": "code",
   "execution_count": 253,
   "metadata": {},
   "outputs": [
    {
     "data": {
      "text/plain": [
       "[[['0.00004570815881990612,',\n",
       "   '0.00005861061095858069,',\n",
       "   '0.00008771639611581865,',\n",
       "   '0.00016222391265912576,',\n",
       "   '0.0010801031227197049'],\n",
       "  ['8.232510282068342*^-8,',\n",
       "   '3.447020961717698*^-8,',\n",
       "   '1.6003887576391645*^-7,',\n",
       "   '2.3420054285480375*^-6,',\n",
       "   '0.00010979080890209364'],\n",
       "  ['6.121187113485035*^-9,',\n",
       "   '5.914660493824921*^-9,',\n",
       "   '1.1326509031583861*^-7,',\n",
       "   '2.3385281011189445*^-6,',\n",
       "   '0.00010975558068139448'],\n",
       "  ['2.8301308850507065*^-10,',\n",
       "   '5.635706017804335*^-9,',\n",
       "   '1.1325118217564547*^-7,',\n",
       "   '2.3385267010174225*^-6,',\n",
       "   '0.00010975556641201786'],\n",
       "  ['2.807476205077153*^-10,',\n",
       "   '5.635593161673674*^-9,',\n",
       "   '1.1325117653995907*^-7,',\n",
       "   '2.338526700450306*^-6,',\n",
       "   '0.00010975556640624327']],\n",
       " [['0.0000457081588206338,',\n",
       "   '0.00005861061095983926,',\n",
       "   '0.00008771639611850936,',\n",
       "   '0.00016222391266840317,',\n",
       "   '0.0010801031230920693'],\n",
       "  ['1.23111618934574*^-7,',\n",
       "   '2.0879700550981982*^-7,',\n",
       "   '4.424200331811222*^-7,',\n",
       "   '2.35244122809767*^-6,',\n",
       "   '0.00010979113387787579'],\n",
       "  ['4.143632224066128*^-8,',\n",
       "   '7.602074357765824*^-9,',\n",
       "   '1.1334900835448977*^-7,',\n",
       "   '2.3385322777980798*^-6,',\n",
       "   '0.00010975558081301867'],\n",
       "  ['2.9671714699540043*^-10,',\n",
       "   '5.636388692264847*^-9,',\n",
       "   '1.1325121617993718*^-7,',\n",
       "   '2.3385267027095225*^-6,',\n",
       "   '0.00010975556641207116'],\n",
       "  ['2.807531729322688*^-10,',\n",
       "   '5.635593438211717*^-9,',\n",
       "   '1.1325117655373135*^-7,',\n",
       "   '2.3385267004509917*^-6,',\n",
       "   '0.00010975556640624331']],\n",
       " [['0.000045708159048448663,',\n",
       "   '0.000058610611353858985,',\n",
       "   '0.00008771639696089238,',\n",
       "   '0.0001622239155728998,',\n",
       "   '0.0010801032396600169'],\n",
       "  ['3.1097972715774645*^-7,',\n",
       "   '2.001004854403745*^-6,',\n",
       "   '1.7327726382524025*^-6,',\n",
       "   '2.4001280699183944*^-6,',\n",
       "   '0.00010979261886892846'],\n",
       "  ['2.028101674375062*^-7,',\n",
       "   '1.5312775808795475*^-8,',\n",
       "   '1.1373247500497937*^-7,',\n",
       "   '2.3385513632913097*^-6,',\n",
       "   '0.0001097555814144801'],\n",
       "  ['3.5933836037340293*^-10,',\n",
       "   '5.6395081990218845*^-9,',\n",
       "   '1.1325137156383359*^-7,',\n",
       "   '2.338526710441636*^-6,',\n",
       "   '0.00010975556641231479'],\n",
       "  ['2.8077854494618556*^-10,',\n",
       "   '5.635594701862748*^-9,',\n",
       "   '1.1325117661666433*^-7,',\n",
       "   '2.3385267004541236*^-6,',\n",
       "   '0.00010975556640624345']],\n",
       " [['0.00004570817491984461,',\n",
       "   '0.00005861063880441024,',\n",
       "   '0.00008771645564799576,',\n",
       "   '0.00016222411792324266,',\n",
       "   '0.0010801113607086525'],\n",
       "  ['1.8033598705097226*^-7,',\n",
       "   '6.142100015814273*^-6,',\n",
       "   '5.7536718700856176*^-6,',\n",
       "   '2.5487272658140765*^-6,',\n",
       "   '0.00010979724632047668'],\n",
       "  ['2.1059955244853877*^-6,',\n",
       "   '3.933978447320317*^-8,',\n",
       "   '1.1492738011088826*^-7,',\n",
       "   '2.338610834834088*^-6,',\n",
       "   '0.00010975558328866992'],\n",
       "  ['5.544698187531188*^-10,',\n",
       "   '5.649228769258232*^-9,',\n",
       "   '1.132518557493784*^-7,',\n",
       "   '2.3385267345353633*^-6,',\n",
       "   '0.00010975556641307395'],\n",
       "  ['2.808576056639606*^-10,',\n",
       "   '5.635598639475169*^-9,',\n",
       "   '1.132511768127672*^-7,',\n",
       "   '2.3385267004638814*^-6,',\n",
       "   '0.00010975556640624379']],\n",
       " [['0.00004570844979044605,',\n",
       "   '0.00005861111420997168,',\n",
       "   '0.00008771747202736765,',\n",
       "   '0.0001622276223510324,',\n",
       "   '0.001080252006044897'],\n",
       "  ['9.854301801343808*^-7,',\n",
       "   '0.000015220294081294,',\n",
       "   '0.00002238481087862117,',\n",
       "   '2.8647098876040724*^-6,',\n",
       "   '0.0001098070861962334'],\n",
       "  ['5.1879592670665165*^-6,',\n",
       "   '9.042126299151208*^-8,',\n",
       "   '1.1746775125563736*^-7,',\n",
       "   '2.338737271477851*^-6,',\n",
       "   '0.00010975558727320192'],\n",
       "  ['9.69319738640833*^-10,',\n",
       "   '5.6698947234682605*^-9,',\n",
       "   '1.1325288512893685*^-7,',\n",
       "   '2.3385267857586817*^-6,',\n",
       "   '0.00010975556641468795'],\n",
       "  ['2.810256889279638*^-10,',\n",
       "   '5.635607010848043*^-9,',\n",
       "   '1.1325117722968233*^-7,',\n",
       "   '2.3385267004846253*^-6,',\n",
       "   '0.00010975556640624449']]]"
      ]
     },
     "execution_count": 253,
     "metadata": {},
     "output_type": "execute_result"
    }
   ],
   "source": [
    "lines_trap"
   ]
  },
  {
   "cell_type": "code",
   "execution_count": null,
   "metadata": {
    "collapsed": true
   },
   "outputs": [],
   "source": []
  }
 ],
 "metadata": {
  "kernelspec": {
   "display_name": "Python 3",
   "language": "python",
   "name": "python3"
  },
  "language_info": {
   "codemirror_mode": {
    "name": "ipython",
    "version": 3
   },
   "file_extension": ".py",
   "mimetype": "text/x-python",
   "name": "python",
   "nbconvert_exporter": "python",
   "pygments_lexer": "ipython3",
   "version": "3.6.3"
  }
 },
 "nbformat": 4,
 "nbformat_minor": 2
}
