{
 "cells": [
  {
   "cell_type": "markdown",
   "metadata": {},
   "source": [
    "The idea is to find a distribution that would explain the red-necked stint's both polymorphisms and substitutions and then see if this distribution explains the sandpiper given the population dynamics that Mateusz modelled."
   ]
  },
  {
   "cell_type": "code",
   "execution_count": null,
   "metadata": {
    "collapsed": true
   },
   "outputs": [],
   "source": [
    "import scipy\n",
    "import numpy as np\n",
    "import matplotlib.pyplot as plt\n",
    "%matplotlib inline"
   ]
  },
  {
   "cell_type": "markdown",
   "metadata": {},
   "source": [
    "### Constants and variables"
   ]
  },
  {
   "cell_type": "code",
   "execution_count": null,
   "metadata": {
    "collapsed": true
   },
   "outputs": [],
   "source": [
    "u = 1.2e-8 # mutation rate\n",
    "r = 3.2e-8 # recombination rate\n",
    "\n",
    "Ne = 50000 # effective population size\n",
    "l = 22978853 # genome length\n",
    "\n",
    "h = 0.5 # dominance coefficient\n",
    "\n",
    "mu = -0.00002 # mean of the selection coeficients distribution\n",
    "sigma = 0.00006 # variance of the selection coeficients distribution\n",
    "alpha = 3 # skewness parameter of the selection coeficients distribution"
   ]
  },
  {
   "cell_type": "code",
   "execution_count": null,
   "metadata": {},
   "outputs": [],
   "source": [
    "def distr(s, alpha, mu, sigma): # probability density function of the distribution of selection coefficients\n",
    "    return(scipy.stats.skewnorm.pdf(s, alpha, mu, sigma))"
   ]
  },
  {
   "cell_type": "markdown",
   "metadata": {
    "collapsed": true
   },
   "source": [
    "### Functions"
   ]
  },
  {
   "cell_type": "code",
   "execution_count": null,
   "metadata": {
    "collapsed": true
   },
   "outputs": [],
   "source": [
    "def population(size, length, distribution): \n",
    "    # TODO: make it a class with methods create, mate, select, etc.\n",
    "    '''  \n",
    "    Takes Ne, genome length, and selection coefficients distribution as input;\n",
    "    returns a dictionary with positions as keys and tuples (0/1, s) as values.\n",
    "    '''\n",
    "    # TODO: they are diploids - what do we do? do we need to store pairs of genomes and not just genomes together? Fedya must have mentioned that\n",
    "    return(dict()) #  "
   ]
  },
  {
   "cell_type": "code",
   "execution_count": null,
   "metadata": {
    "collapsed": true
   },
   "outputs": [],
   "source": [
    "def mate():\n",
    "    return"
   ]
  },
  {
   "cell_type": "code",
   "execution_count": null,
   "metadata": {
    "collapsed": true
   },
   "outputs": [],
   "source": [
    "def select():\n",
    "    return"
   ]
  },
  {
   "cell_type": "code",
   "execution_count": null,
   "metadata": {
    "collapsed": true
   },
   "outputs": [],
   "source": []
  }
 ],
 "metadata": {
  "kernelspec": {
   "display_name": "Python 3",
   "language": "python",
   "name": "python3"
  },
  "language_info": {
   "codemirror_mode": {
    "name": "ipython",
    "version": 3
   },
   "file_extension": ".py",
   "mimetype": "text/x-python",
   "name": "python",
   "nbconvert_exporter": "python",
   "pygments_lexer": "ipython3",
   "version": "3.6.3"
  }
 },
 "nbformat": 4,
 "nbformat_minor": 2
}
