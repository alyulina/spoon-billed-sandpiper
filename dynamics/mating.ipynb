{
 "cells": [
  {
   "cell_type": "markdown",
   "metadata": {},
   "source": [
    "The idea is to find a distribution that would explain the red-necked stint's both polymorphisms and substitutions and then see if this distribution explains the sandpiper given the population dynamics that Mateusz modelled."
   ]
  },
  {
   "cell_type": "code",
   "execution_count": null,
   "metadata": {
    "collapsed": true
   },
   "outputs": [],
   "source": [
    "import scipy.stats\n",
    "import numpy as np\n",
    "import matplotlib.pyplot as plt\n",
    "%matplotlib inline\n",
    "import random"
   ]
  },
  {
   "cell_type": "markdown",
   "metadata": {},
   "source": [
    "### Constants and variables"
   ]
  },
  {
   "cell_type": "code",
   "execution_count": null,
   "metadata": {
    "collapsed": true
   },
   "outputs": [],
   "source": [
    "u = 1.2e-8 # mutation rate\n",
    "\n",
    "l = 22978853 # genome length\n",
    "Ne = 50000 # effective population size\n",
    "\n",
    "h = 0.5 # dominance coefficient\n",
    "\n",
    "mu = -0.00002 # mean of the selection coeficients distribution\n",
    "sigma = 0.00006 # variance of the selection coeficients distribution\n",
    "alpha = 3 # skewness parameter of the selection coeficients distribution"
   ]
  },
  {
   "cell_type": "code",
   "execution_count": null,
   "metadata": {
    "collapsed": true
   },
   "outputs": [],
   "source": [
    "def distr(s, skewness, mean, variance): # probability density function of the distribution of selection coefficients\n",
    "    return(scipy.stats.skewnorm.pdf(s, skewness, mean, variance))"
   ]
  },
  {
   "cell_type": "markdown",
   "metadata": {
    "collapsed": true
   },
   "source": [
    "### Functions"
   ]
  },
  {
   "cell_type": "code",
   "execution_count": null,
   "metadata": {
    "collapsed": true
   },
   "outputs": [],
   "source": [
    "class population: \n",
    "    \n",
    "    def __init__(self, size, length, selection, dominance):\n",
    "        self.size = size # effective population size\n",
    "        self.length = length # genome length\n",
    "        # TODO: what's the input for selection and dominance?\n",
    "        self.selection = selection # distribution of selection coefficients\n",
    "        self.dominance = dominance # dominance coefficient\n",
    "        \n",
    "    def create(self, size, length, selection, dominance):\n",
    "        # a list of dictionaries with positions as keys and (allele, selection coefficient, dominance coefficient) as values\n",
    "        # (0, 0, 0) are the initial values\n",
    "        # allele may be 0 or 1\n",
    "        # TODO: s and h to be determined by given distributions\n",
    "        pop = [dict(zip(range(0, length), (0, selection, dominance))) for x in range(0, 2 * size)]  \n",
    "        return\n",
    "        \n",
    "    def mate():\n",
    "        return\n",
    "    \n",
    "    def select():\n",
    "        return    \n",
    "        \n",
    "    \n",
    "    # TODO: make it a class with methods create, mate, select, etc.\n",
    "    '''  \n",
    "    Takes Ne, genome length, dominance coefficient, and selection coefficients distribution as input;\n",
    "    returns a dictionary with positions as keys and tuples (0/1, s) as values.\n",
    "    '''\n",
    "    # TODO: they are diploids - what do we do? do we need to store pairs of genomes and not just genomes together? Fedya must have mentioned that "
   ]
  },
  {
   "cell_type": "code",
   "execution_count": null,
   "metadata": {
    "collapsed": true
   },
   "outputs": [],
   "source": [
    "sandpiper = population()"
   ]
  },
  {
   "cell_type": "code",
   "execution_count": null,
   "metadata": {
    "collapsed": true
   },
   "outputs": [],
   "source": [
    "sandpiper = population(Ne, l, h, distr(-1/Ne, alpha, mu, sigma))"
   ]
  },
  {
   "cell_type": "code",
   "execution_count": null,
   "metadata": {
    "collapsed": true
   },
   "outputs": [],
   "source": [
    "sandpiper.size"
   ]
  },
  {
   "cell_type": "code",
   "execution_count": null,
   "metadata": {
    "collapsed": true
   },
   "outputs": [],
   "source": []
  }
 ],
 "metadata": {
  "kernelspec": {
   "display_name": "Python 3",
   "language": "python",
   "name": "python3"
  },
  "language_info": {
   "codemirror_mode": {
    "name": "ipython",
    "version": 3
   },
   "file_extension": ".py",
   "mimetype": "text/x-python",
   "name": "python",
   "nbconvert_exporter": "python",
   "pygments_lexer": "ipython3",
   "version": "3.6.3"
  }
 },
 "nbformat": 4,
 "nbformat_minor": 2
}
