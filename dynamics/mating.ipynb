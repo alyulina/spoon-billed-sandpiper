{
 "cells": [
  {
   "cell_type": "markdown",
   "metadata": {},
   "source": [
    "The idea is to find a distribution that would explain the red-necked stint's both polymorphisms and substitutions and then see if this distribution explains the sandpiper given the population dynamics that Mateusz modelled."
   ]
  },
  {
   "cell_type": "code",
   "execution_count": null,
   "metadata": {
    "collapsed": true
   },
   "outputs": [],
   "source": [
    "from scipy import *\n",
    "import numpy as np\n",
    "import matplotlib.pyplot as plt\n",
    "%matplotlib inline"
   ]
  },
  {
   "cell_type": "markdown",
   "metadata": {},
   "source": [
    "### Constants and variables"
   ]
  },
  {
   "cell_type": "code",
   "execution_count": null,
   "metadata": {
    "collapsed": true
   },
   "outputs": [],
   "source": [
    "u = 1.2e-8 # mutation rate\n",
    "\n",
    "Ne = 50000 # effective population size\n",
    "l = 22978853 # genome length\n",
    "\n",
    "h = 0.5 # dominance coefficient\n",
    "\n",
    "mu = -0.00002 # mean of the selection coeficients distribution\n",
    "sigma = 0.00006 # variance of the selection coeficients distribution\n",
    "alpha = 3 # skewness parameter of the selection coeficients distribution"
   ]
  },
  {
   "cell_type": "code",
   "execution_count": null,
   "metadata": {
    "collapsed": true
   },
   "outputs": [],
   "source": [
    "s = skewnorm.pdf(x, alpha, mu, sigma) # probability density function of the distribution of selection coefficients"
   ]
  },
  {
   "cell_type": "code",
   "execution_count": null,
   "metadata": {
    "collapsed": true
   },
   "outputs": [],
   "source": []
  }
 ],
 "metadata": {
  "kernelspec": {
   "display_name": "Python 3",
   "language": "python",
   "name": "python3"
  },
  "language_info": {
   "codemirror_mode": {
    "name": "ipython",
    "version": 3
   },
   "file_extension": ".py",
   "mimetype": "text/x-python",
   "name": "python",
   "nbconvert_exporter": "python",
   "pygments_lexer": "ipython3",
   "version": "3.6.3"
  }
 },
 "nbformat": 4,
 "nbformat_minor": 2
}
